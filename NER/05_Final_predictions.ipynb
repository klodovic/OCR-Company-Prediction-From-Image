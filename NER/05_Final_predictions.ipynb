{
 "cells": [
  {
   "cell_type": "code",
   "execution_count": 29,
   "id": "292a4a04",
   "metadata": {},
   "outputs": [],
   "source": [
    "import cv2\n",
    "import predictions as pred"
   ]
  },
  {
   "cell_type": "code",
   "execution_count": null,
   "id": "14dc1a8d",
   "metadata": {},
   "outputs": [],
   "source": []
  },
  {
   "cell_type": "code",
   "execution_count": 38,
   "id": "d930a050",
   "metadata": {},
   "outputs": [],
   "source": [
    "img = cv2.imread('../test-img/krila.JPG')\n",
    "\n",
    "# cv2.namedWindow('Original')\n",
    "# cv2.imshow('Original', i)\n",
    "# cv2.waitKey(0)\n",
    "# cv2.destroyAllWindows()"
   ]
  },
  {
   "cell_type": "code",
   "execution_count": null,
   "id": "4293d2e2",
   "metadata": {},
   "outputs": [],
   "source": []
  },
  {
   "cell_type": "code",
   "execution_count": 41,
   "id": "d1219592",
   "metadata": {},
   "outputs": [
    {
     "name": "stdout",
     "output_type": "stream",
     "text": [
      "{'COMPANY': ['Udruge', 'Jahanje'], 'STREET': ['Ulica Otona Ivekovića 31'], 'CITY': ['zagreb'], 'COUNTRY': [], 'PHONE': [], 'CELL_PHONE': ['0912537191', '0912537191'], 'FAX': [], 'POST_NUMBER': ['10360'], 'EMAIL': ['krilaqkrila.hr'], 'WEBSITE': ['www.krila.hr'], 'MBS': ['001129007'], 'IBAN': ['hr9623600001101335672'], 'OIB': ['71157904537', '0089141']}\n"
     ]
    }
   ],
   "source": [
    "img_result, entities = pred.getPredictions(img)\n",
    "\n",
    "print(entities)\n",
    "cv2.namedWindow('prediction')\n",
    "cv2.imshow('prediction', img_result)\n",
    "cv2.waitKey(0)\n",
    "cv2.destroyAllWindows()"
   ]
  },
  {
   "cell_type": "code",
   "execution_count": null,
   "id": "1ef6a00c",
   "metadata": {},
   "outputs": [],
   "source": []
  },
  {
   "cell_type": "code",
   "execution_count": null,
   "id": "fbd55b0a",
   "metadata": {},
   "outputs": [],
   "source": []
  },
  {
   "cell_type": "code",
   "execution_count": null,
   "id": "90eb0c45",
   "metadata": {},
   "outputs": [],
   "source": []
  },
  {
   "cell_type": "code",
   "execution_count": null,
   "id": "33a05e84",
   "metadata": {},
   "outputs": [],
   "source": []
  },
  {
   "cell_type": "code",
   "execution_count": null,
   "id": "6339c487",
   "metadata": {},
   "outputs": [],
   "source": []
  },
  {
   "cell_type": "code",
   "execution_count": null,
   "id": "a80b2da8",
   "metadata": {},
   "outputs": [],
   "source": []
  },
  {
   "cell_type": "code",
   "execution_count": null,
   "id": "407708c2",
   "metadata": {},
   "outputs": [],
   "source": []
  },
  {
   "cell_type": "code",
   "execution_count": null,
   "id": "a1ffc25d",
   "metadata": {},
   "outputs": [],
   "source": []
  }
 ],
 "metadata": {
  "kernelspec": {
   "display_name": "Python 3 (ipykernel)",
   "language": "python",
   "name": "python3"
  },
  "language_info": {
   "codemirror_mode": {
    "name": "ipython",
    "version": 3
   },
   "file_extension": ".py",
   "mimetype": "text/x-python",
   "name": "python",
   "nbconvert_exporter": "python",
   "pygments_lexer": "ipython3",
   "version": "3.11.4"
  }
 },
 "nbformat": 4,
 "nbformat_minor": 5
}
