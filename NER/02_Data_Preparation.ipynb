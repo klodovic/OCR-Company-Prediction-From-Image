{
 "cells": [
  {
   "cell_type": "code",
   "execution_count": 2,
   "id": "24f0d7b5",
   "metadata": {},
   "outputs": [],
   "source": [
    "import numpy as np\n",
    "import pandas as pd\n",
    "import cv2\n",
    "import pytesseract\n",
    "\n",
    "import os\n",
    "from glob import glob\n",
    "from tqdm import tqdm\n",
    "\n",
    "import warnings\n",
    "warnings.filterwarnings('ignore')"
   ]
  },
  {
   "cell_type": "code",
   "execution_count": 3,
   "id": "acc50a20",
   "metadata": {},
   "outputs": [],
   "source": [
    "imgPaths = glob('../tvrtke/*.jpg')"
   ]
  },
  {
   "cell_type": "code",
   "execution_count": 10,
   "id": "772f8f05",
   "metadata": {},
   "outputs": [
    {
     "name": "stderr",
     "output_type": "stream",
     "text": [
      "All Companies From Images: 100%|█████████████████████████████████████████████████████| 401/401 [02:39<00:00,  2.51it/s]\n"
     ]
    }
   ],
   "source": [
    "allCompanies = pd.DataFrame(columns=['id','text'])\n",
    "for imgPath in tqdm(imgPaths, desc='All Companies From Images'):\n",
    "    #imgPath = imgPaths[0]\n",
    "    _, filename = os.path.split(imgPath)\n",
    "\n",
    "    #print(imgPath)\n",
    "    #Extract data and text\n",
    "    image = cv2.imread(imgPath)\n",
    "    data = pytesseract.image_to_data(image, lang='hrv')\n",
    "\n",
    "    #Dataframe\n",
    "    dataList = list(map(lambda x: x.split('\\t'), data.split('\\n')))\n",
    "    df = pd.DataFrame(dataList[1:], columns = dataList[0])\n",
    "    df.dropna(inplace=True)\n",
    "\n",
    "    #conf - from object into float\n",
    "    df['conf'] = df['conf'].astype(float)\n",
    "\n",
    "    # selecting only Level 5 data\n",
    "    usefulData = df.query('conf >= 30')\n",
    "    \n",
    "    # creating new DataFrame\n",
    "    company = pd.DataFrame()\n",
    "    company['text'] = usefulData['text']\n",
    "    company['id'] = filename\n",
    "    \n",
    "    # add company into allCompanies\n",
    "    allCompanies = pd.concat((allCompanies, company))"
   ]
  },
  {
   "cell_type": "markdown",
   "id": "753d8d7f",
   "metadata": {},
   "source": [
    "# Saving data into csv file"
   ]
  },
  {
   "cell_type": "code",
   "execution_count": 11,
   "id": "83006a4a",
   "metadata": {},
   "outputs": [
    {
     "data": {
      "text/html": [
       "<div>\n",
       "<style scoped>\n",
       "    .dataframe tbody tr th:only-of-type {\n",
       "        vertical-align: middle;\n",
       "    }\n",
       "\n",
       "    .dataframe tbody tr th {\n",
       "        vertical-align: top;\n",
       "    }\n",
       "\n",
       "    .dataframe thead th {\n",
       "        text-align: right;\n",
       "    }\n",
       "</style>\n",
       "<table border=\"1\" class=\"dataframe\">\n",
       "  <thead>\n",
       "    <tr style=\"text-align: right;\">\n",
       "      <th></th>\n",
       "      <th>id</th>\n",
       "      <th>text</th>\n",
       "    </tr>\n",
       "  </thead>\n",
       "  <tbody>\n",
       "    <tr>\n",
       "      <th>4</th>\n",
       "      <td>19.jpg</td>\n",
       "      <td></td>\n",
       "    </tr>\n",
       "    <tr>\n",
       "      <th>8</th>\n",
       "      <td>19.jpg</td>\n",
       "      <td>6.</td>\n",
       "    </tr>\n",
       "    <tr>\n",
       "      <th>9</th>\n",
       "      <td>19.jpg</td>\n",
       "      <td>MAJ</td>\n",
       "    </tr>\n",
       "    <tr>\n",
       "      <th>13</th>\n",
       "      <td>19.jpg</td>\n",
       "      <td>GRAFIČKO</td>\n",
       "    </tr>\n",
       "    <tr>\n",
       "      <th>14</th>\n",
       "      <td>19.jpg</td>\n",
       "      <td>—</td>\n",
       "    </tr>\n",
       "    <tr>\n",
       "      <th>...</th>\n",
       "      <td>...</td>\n",
       "      <td>...</td>\n",
       "    </tr>\n",
       "    <tr>\n",
       "      <th>52</th>\n",
       "      <td>zzConcept.JPG</td>\n",
       "      <td>2100045</td>\n",
       "    </tr>\n",
       "    <tr>\n",
       "      <th>54</th>\n",
       "      <td>zzConcept.JPG</td>\n",
       "      <td>MBS:</td>\n",
       "    </tr>\n",
       "    <tr>\n",
       "      <th>55</th>\n",
       "      <td>zzConcept.JPG</td>\n",
       "      <td>080558280</td>\n",
       "    </tr>\n",
       "    <tr>\n",
       "      <th>57</th>\n",
       "      <td>zzConcept.JPG</td>\n",
       "      <td>OIB:</td>\n",
       "    </tr>\n",
       "    <tr>\n",
       "      <th>58</th>\n",
       "      <td>zzConcept.JPG</td>\n",
       "      <td>29317746059</td>\n",
       "    </tr>\n",
       "  </tbody>\n",
       "</table>\n",
       "<p>15962 rows × 2 columns</p>\n",
       "</div>"
      ],
      "text/plain": [
       "               id         text\n",
       "4          19.jpg             \n",
       "8          19.jpg           6.\n",
       "9          19.jpg          MAJ\n",
       "13         19.jpg     GRAFIČKO\n",
       "14         19.jpg            —\n",
       "..            ...          ...\n",
       "52  zzConcept.JPG      2100045\n",
       "54  zzConcept.JPG         MBS:\n",
       "55  zzConcept.JPG    080558280\n",
       "57  zzConcept.JPG         OIB:\n",
       "58  zzConcept.JPG  29317746059\n",
       "\n",
       "[15962 rows x 2 columns]"
      ]
     },
     "execution_count": 11,
     "metadata": {},
     "output_type": "execute_result"
    }
   ],
   "source": [
    "allCompanies\n"
   ]
  },
  {
   "cell_type": "code",
   "execution_count": 15,
   "id": "351b4e4d",
   "metadata": {},
   "outputs": [],
   "source": [
    "allCompanies.to_csv('tvrtke3.csv', index=False, encoding = 'utf-8-sig')"
   ]
  },
  {
   "cell_type": "code",
   "execution_count": null,
   "id": "f73671b7",
   "metadata": {},
   "outputs": [],
   "source": []
  },
  {
   "cell_type": "code",
   "execution_count": null,
   "id": "3e5904bd",
   "metadata": {},
   "outputs": [],
   "source": []
  },
  {
   "cell_type": "code",
   "execution_count": null,
   "id": "959ee626",
   "metadata": {},
   "outputs": [],
   "source": []
  }
 ],
 "metadata": {
  "kernelspec": {
   "display_name": "Python 3 (ipykernel)",
   "language": "python",
   "name": "python3"
  },
  "language_info": {
   "codemirror_mode": {
    "name": "ipython",
    "version": 3
   },
   "file_extension": ".py",
   "mimetype": "text/x-python",
   "name": "python",
   "nbconvert_exporter": "python",
   "pygments_lexer": "ipython3",
   "version": "3.11.4"
  }
 },
 "nbformat": 4,
 "nbformat_minor": 5
}
